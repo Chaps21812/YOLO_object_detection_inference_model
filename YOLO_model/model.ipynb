{
 "cells": [
  {
   "cell_type": "code",
   "execution_count": 3,
   "metadata": {},
   "outputs": [],
   "source": [
    "from ultralytics import YOLO\n",
    "from ultralytics.data.converter import convert_coco\n",
    "from YOLO_Preprocess import process_fits_and_save_png\n",
    "import torch\n",
    "import shutil\n",
    "import os\n",
    "import json\n",
    "import yaml"
   ]
  },
  {
   "cell_type": "markdown",
   "metadata": {},
   "source": [
    "# Preprocess Data"
   ]
  },
  {
   "cell_type": "code",
   "execution_count": 4,
   "metadata": {},
   "outputs": [
    {
     "name": "stderr",
     "output_type": "stream",
     "text": [
      "Annotations /mnt/c/users/david.chaparro/Documents/data/fits_with_sp3_ra_dec_v3_COCO_dataset_mini/annotations/annotations.json: 100%|██████████| 100/100 [00:00<00:00, 113.14it/s]\n"
     ]
    },
    {
     "name": "stdout",
     "output_type": "stream",
     "text": [
      "COCO data converted successfully.\n",
      "Results saved to /mnt/c/users/david.chaparro/Documents/data/fits_with_sp3_ra_dec_v3_COCO_dataset_mini/temp\n",
      "0/100\n",
      "10/100\n",
      "20/100\n",
      "30/100\n",
      "40/100\n",
      "50/100\n",
      "60/100\n",
      "70/100\n",
      "80/100\n",
      "90/100\n"
     ]
    }
   ],
   "source": [
    "\n",
    "#create train/test/eval paths for data\n",
    "# data_path = \"/app/data/fits_with_sp3_ra_dec_v3_COCO_dataset_mini\"\n",
    "data_path = \"/mnt/c/users/david.chaparro/Documents/data/fits_with_sp3_ra_dec_v3_COCO_dataset_mini\"\n",
    "yolo_data_path = data_path+\"/yolo_annotations\"\n",
    "train_path = data_path+\"/yolo_annotations/train\"\n",
    "test_path = data_path+\"/yolo_annotations/test\"\n",
    "eval_path = data_path+\"/yolo_annotations/eval\"\n",
    "model_path = data_path+\"/yolo_annotations/models_and_results\"\n",
    "if not os.path.exists(yolo_data_path): os.mkdir(yolo_data_path)\n",
    "if not os.path.exists(train_path): os.mkdir(train_path)\n",
    "if not os.path.exists(test_path): os.mkdir(test_path)\n",
    "if not os.path.exists(eval_path): os.mkdir(eval_path)\n",
    "if not os.path.exists(model_path): os.mkdir(model_path)\n",
    "\n",
    "# Write data.yaml\n",
    "data = {\"path\": data_path,\n",
    "    \"train\": train_path ,\n",
    "    \"val\": train_path , \n",
    "    \"test\": train_path ,\n",
    "    \"nc\": 1 ,\n",
    "    \"names\": [\"Satellite\"]}\n",
    "with open(data_path +\"/data.yaml\", \"w\") as file:\n",
    "    yaml.dump(data, file, default_flow_style=False)    \n",
    "\n",
    "old_annotations = data_path+\"/annotations\"\n",
    "old_images = data_path+\"/images\"\n",
    "temp_path = data_path+\"/temp\"\n",
    "\n",
    "#convert to coco\n",
    "convert_coco(labels_dir=old_annotations, save_dir=temp_path)\n",
    "process_fits_and_save_png(old_images,train_path+\"/images\")\n",
    "\n",
    "# Move all files from incorrect annotations folder into labels folder\n",
    "source_dir = temp_path+\"/labels/annotations\"\n",
    "destination_dir = train_path+\"/labels\"\n",
    "if not os.path.exists(destination_dir): os.mkdir(destination_dir)\n",
    "for file_name in os.listdir(source_dir):\n",
    "    source_file = os.path.join(source_dir, file_name)\n",
    "    destination_file = os.path.join(destination_dir, file_name)\n",
    "    if os.path.isfile(source_file):  # Ensure it's a file, not a directory\n",
    "        shutil.move(source_file, destination_file)\n",
    "shutil.rmtree(temp_path)\n"
   ]
  },
  {
   "cell_type": "markdown",
   "metadata": {},
   "source": [
    "# Model Training and Evaluation"
   ]
  },
  {
   "cell_type": "code",
   "execution_count": 6,
   "metadata": {},
   "outputs": [
    {
     "name": "stdout",
     "output_type": "stream",
     "text": [
      "Model is using: cuda:0\n",
      "Cuda Available: True\n"
     ]
    }
   ],
   "source": [
    "model = YOLO(\"yolo11n.pt\").to('cuda')\n",
    "# model = YOLO(\"/app/data/models/model.pt\").to('cuda')\n",
    "\n",
    "device = next(model.model.parameters()).device\n",
    "\n",
    "print(f\"Model is using: {model.device}\")\n",
    "print(\"Cuda Available:\", torch.cuda.is_available())"
   ]
  },
  {
   "cell_type": "markdown",
   "metadata": {},
   "source": [
    "### Training"
   ]
  },
  {
   "cell_type": "code",
   "execution_count": 11,
   "metadata": {},
   "outputs": [
    {
     "name": "stdout",
     "output_type": "stream",
     "text": [
      "New https://pypi.org/project/ultralytics/8.3.86 available 😃 Update with 'pip install -U ultralytics'\n",
      "\u001b[34m\u001b[1mengine/trainer: \u001b[0mtask=detect, mode=train, model=yolo11n.pt, data=/mnt/c/users/david.chaparro/Documents/data/fits_with_sp3_ra_dec_v3_COCO_dataset_mini/data.yaml, epochs=1, time=None, patience=100, batch=0.7, imgsz=1200, save=True, save_period=-1, cache=False, device=cuda:0, workers=8, project=None, name=train3, exist_ok=False, pretrained=True, optimizer=auto, verbose=True, seed=0, deterministic=True, single_cls=False, rect=False, cos_lr=False, close_mosaic=10, resume=False, amp=True, fraction=1.0, profile=False, freeze=None, multi_scale=False, overlap_mask=True, mask_ratio=4, dropout=0.0, val=True, split=val, save_json=False, save_hybrid=False, conf=None, iou=0.7, max_det=300, half=False, dnn=False, plots=True, source=None, vid_stride=1, stream_buffer=False, visualize=False, augment=False, agnostic_nms=False, classes=None, retina_masks=False, embed=None, show=False, save_frames=False, save_txt=False, save_conf=False, save_crop=False, show_labels=True, show_conf=True, show_boxes=True, line_width=None, format=torchscript, keras=False, optimize=False, int8=False, dynamic=False, simplify=True, opset=None, workspace=None, nms=False, lr0=0.01, lrf=0.01, momentum=0.937, weight_decay=0.0005, warmup_epochs=3.0, warmup_momentum=0.8, warmup_bias_lr=0.1, box=7.5, cls=0.5, dfl=1.5, pose=12.0, kobj=1.0, nbs=64, hsv_h=0.015, hsv_s=0.7, hsv_v=0.4, degrees=0.0, translate=0.1, scale=0.5, shear=0.0, perspective=0.0, flipud=0.0, fliplr=0.5, bgr=0.0, mosaic=1.0, mixup=0.0, copy_paste=0.0, copy_paste_mode=flip, auto_augment=randaugment, erasing=0.4, crop_fraction=1.0, cfg=None, tracker=botsort.yaml, save_dir=runs/detect/train3\n",
      "\n",
      "                   from  n    params  module                                       arguments                     \n",
      "  0                  -1  1       464  ultralytics.nn.modules.conv.Conv             [3, 16, 3, 2]                 \n",
      "  1                  -1  1      4672  ultralytics.nn.modules.conv.Conv             [16, 32, 3, 2]                \n",
      "  2                  -1  1      6640  ultralytics.nn.modules.block.C3k2            [32, 64, 1, False, 0.25]      \n",
      "  3                  -1  1     36992  ultralytics.nn.modules.conv.Conv             [64, 64, 3, 2]                \n",
      "  4                  -1  1     26080  ultralytics.nn.modules.block.C3k2            [64, 128, 1, False, 0.25]     \n",
      "  5                  -1  1    147712  ultralytics.nn.modules.conv.Conv             [128, 128, 3, 2]              \n",
      "  6                  -1  1     87040  ultralytics.nn.modules.block.C3k2            [128, 128, 1, True]           \n",
      "  7                  -1  1    295424  ultralytics.nn.modules.conv.Conv             [128, 256, 3, 2]              \n",
      "  8                  -1  1    346112  ultralytics.nn.modules.block.C3k2            [256, 256, 1, True]           \n",
      "  9                  -1  1    164608  ultralytics.nn.modules.block.SPPF            [256, 256, 5]                 \n",
      " 10                  -1  1    249728  ultralytics.nn.modules.block.C2PSA           [256, 256, 1]                 \n",
      " 11                  -1  1         0  torch.nn.modules.upsampling.Upsample         [None, 2, 'nearest']          \n",
      " 12             [-1, 6]  1         0  ultralytics.nn.modules.conv.Concat           [1]                           \n",
      " 13                  -1  1    111296  ultralytics.nn.modules.block.C3k2            [384, 128, 1, False]          \n",
      " 14                  -1  1         0  torch.nn.modules.upsampling.Upsample         [None, 2, 'nearest']          \n",
      " 15             [-1, 4]  1         0  ultralytics.nn.modules.conv.Concat           [1]                           \n",
      " 16                  -1  1     32096  ultralytics.nn.modules.block.C3k2            [256, 64, 1, False]           \n",
      " 17                  -1  1     36992  ultralytics.nn.modules.conv.Conv             [64, 64, 3, 2]                \n",
      " 18            [-1, 13]  1         0  ultralytics.nn.modules.conv.Concat           [1]                           \n",
      " 19                  -1  1     86720  ultralytics.nn.modules.block.C3k2            [192, 128, 1, False]          \n",
      " 20                  -1  1    147712  ultralytics.nn.modules.conv.Conv             [128, 128, 3, 2]              \n",
      " 21            [-1, 10]  1         0  ultralytics.nn.modules.conv.Concat           [1]                           \n",
      " 22                  -1  1    378880  ultralytics.nn.modules.block.C3k2            [384, 256, 1, True]           \n",
      " 23        [16, 19, 22]  1    430867  ultralytics.nn.modules.head.Detect           [1, [64, 128, 256]]           \n",
      "YOLO11n summary: 181 layers, 2,590,035 parameters, 2,590,019 gradients, 6.4 GFLOPs\n",
      "\n",
      "Transferred 94/499 items from pretrained weights\n",
      "DVCLive is detected and auto logging is enabled (run 'yolo settings dvc=False' to disable).\n",
      "\u001b[34m\u001b[1mTensorBoard: \u001b[0mStart with 'tensorboard --logdir runs/detect/train3', view at http://localhost:6006/\n",
      "Freezing layer 'model.23.dfl.conv.weight'\n",
      "\u001b[34m\u001b[1mAMP: \u001b[0mrunning Automatic Mixed Precision (AMP) checks...\n",
      "\u001b[34m\u001b[1mAMP: \u001b[0mchecks passed ✅\n",
      "WARNING ⚠️ imgsz=[1200] must be multiple of max stride 32, updating to [1216]\n"
     ]
    },
    {
     "name": "stderr",
     "output_type": "stream",
     "text": [
      "train: Scanning /mnt/c/users/david.chaparro/Documents/data/fits_with_sp3_ra_dec_v3_COCO_dataset_mini/yolo_annotations/train/labels.cache... 100 images, 0 backgrounds, 0 corrupt: 100%|██████████| 100/100 [00:00<?, ?it/s]Scanning /mnt/c/users/david.chaparro/Documents/data/fits_with_sp3_ra_dec_v3_COCO_dataset_mini/yolo_annotations/train/labels.cache... 100 images, 0 backgrounds, 0 corrupt: 100%|██████████| 100/100 [00:00<?, ?it/s]\n"
     ]
    },
    {
     "name": "stdout",
     "output_type": "stream",
     "text": [
      "\u001b[34m\u001b[1mAutoBatch: \u001b[0mComputing optimal batch size for imgsz=1216 at 70.0% CUDA memory utilization.\n",
      "\u001b[34m\u001b[1mAutoBatch: \u001b[0mCUDA:0 (NVIDIA GeForce RTX 4070 Laptop GPU) 8.00G total, 6.32G reserved, 4.54G allocated, -2.86G free\n",
      "      Params      GFLOPs  GPU_mem (GB)  forward (ms) backward (ms)                   input                  output\n",
      "     2590035       23.25         1.046         74.36         33.04      (1, 3, 1216, 1216)                    list\n",
      "     2590035        46.5         1.659          54.6         53.37      (2, 3, 1216, 1216)                    list\n",
      "     2590035          93         2.718         80.61         85.79      (4, 3, 1216, 1216)                    list\n",
      "     2590035         186         5.149         94.11         117.6      (8, 3, 1216, 1216)                    list\n",
      "     2590035         372         9.347         212.3          1061     (16, 3, 1216, 1216)                    list\n"
     ]
    },
    {
     "name": "stderr",
     "output_type": "stream",
     "text": [
      "/home/david-chaparro/miniconda3/envs/MLTorch/lib/python3.12/site-packages/ultralytics/utils/autobatch.py:90: RuntimeWarning: invalid value encountered in log\n",
      "  b = int(round(np.exp((np.log(f * fraction) - p[1]) / p[0])))  # y intercept (optimal batch size)\n"
     ]
    },
    {
     "name": "stdout",
     "output_type": "stream",
     "text": [
      "\u001b[34m\u001b[1mAutoBatch: \u001b[0mWARNING ⚠️ error detected: cannot convert float NaN to integer,  using default batch-size 16.\n"
     ]
    },
    {
     "name": "stderr",
     "output_type": "stream",
     "text": [
      "train: Scanning /mnt/c/users/david.chaparro/Documents/data/fits_with_sp3_ra_dec_v3_COCO_dataset_mini/yolo_annotations/train/labels.cache... 100 images, 0 backgrounds, 0 corrupt: 100%|██████████| 100/100 [00:00<?, ?it/s]Scanning /mnt/c/users/david.chaparro/Documents/data/fits_with_sp3_ra_dec_v3_COCO_dataset_mini/yolo_annotations/train/labels.cache... 100 images, 0 backgrounds, 0 corrupt: 100%|██████████| 100/100 [00:00<?, ?it/s]\n",
      "val: Scanning /mnt/c/users/david.chaparro/Documents/data/fits_with_sp3_ra_dec_v3_COCO_dataset_mini/yolo_annotations/train/labels.cache... 100 images, 0 backgrounds, 0 corrupt: 100%|██████████| 100/100 [00:00<?, ?it/s]Scanning /mnt/c/users/david.chaparro/Documents/data/fits_with_sp3_ra_dec_v3_COCO_dataset_mini/yolo_annotations/train/labels.cache... 100 images, 0 backgrounds, 0 corrupt: 100%|██████████| 100/100 [00:00<?, ?it/s]\n"
     ]
    },
    {
     "name": "stdout",
     "output_type": "stream",
     "text": [
      "Plotting labels to runs/detect/train3/labels.jpg... \n",
      "\u001b[34m\u001b[1moptimizer:\u001b[0m 'optimizer=auto' found, ignoring 'lr0=0.01' and 'momentum=0.937' and determining best 'optimizer', 'lr0' and 'momentum' automatically... \n",
      "\u001b[34m\u001b[1moptimizer:\u001b[0m AdamW(lr=0.002, momentum=0.9) with parameter groups 81 weight(decay=0.0), 88 weight(decay=0.0005), 87 bias(decay=0.0)\n"
     ]
    },
    {
     "name": "stderr",
     "output_type": "stream",
     "text": [
      "2025/03/10 10:56:51 INFO mlflow.tracking.fluent: Autologging successfully enabled for keras.\n",
      "2025/03/10 10:56:51 INFO mlflow.tracking.fluent: Autologging successfully enabled for sklearn.\n",
      "2025/03/10 10:56:51 INFO mlflow.tracking.fluent: Autologging successfully enabled for tensorflow.\n"
     ]
    },
    {
     "name": "stdout",
     "output_type": "stream",
     "text": [
      "\u001b[34m\u001b[1mMLflow: \u001b[0mlogging run_id(654191c34def4da4921039400b9fb445) to runs/mlflow\n",
      "\u001b[34m\u001b[1mMLflow: \u001b[0mview at http://127.0.0.1:5000 with 'mlflow server --backend-store-uri runs/mlflow'\n",
      "\u001b[34m\u001b[1mMLflow: \u001b[0mdisable with 'yolo settings mlflow=False'\n",
      "\u001b[34m\u001b[1mMLflow: \u001b[0mWARNING ⚠️ Failed to initialize: Changing param values is not allowed. Param with key='epochs' was already logged with value='100' for run ID='654191c34def4da4921039400b9fb445'. Attempted logging new value '1'.\n",
      "\u001b[34m\u001b[1mMLflow: \u001b[0mWARNING ⚠️ Not tracking this run\n",
      "\u001b[34m\u001b[1mTensorBoard: \u001b[0mmodel graph visualization added ✅\n",
      "Image sizes 1216 train, 1216 val\n",
      "Using 8 dataloader workers\n",
      "Logging results to \u001b[1mruns/detect/train3\u001b[0m\n",
      "Starting training for 1 epochs...\n",
      "\n",
      "      Epoch    GPU_mem   box_loss   cls_loss   dfl_loss  Instances       Size\n"
     ]
    },
    {
     "name": "stderr",
     "output_type": "stream",
     "text": [
      "        1/1      7.97G   0.004361      346.5    0.00105          7       1216: 100%|██████████| 7/7 [00:22<00:00,  3.24s/it]\n",
      "                 Class     Images  Instances      Box(P          R      mAP50  mAP50-95):  25%|██▌       | 1/4 [00:00<00:02,  1.25it/s]"
     ]
    },
    {
     "name": "stdout",
     "output_type": "stream",
     "text": [
      "WARNING ⚠️ NMS time limit 3.600s exceeded\n"
     ]
    },
    {
     "name": "stderr",
     "output_type": "stream",
     "text": [
      "                 Class     Images  Instances      Box(P          R      mAP50  mAP50-95): 100%|██████████| 4/4 [00:02<00:00,  1.41it/s]\n"
     ]
    },
    {
     "name": "stdout",
     "output_type": "stream",
     "text": [
      "                   all        100        100          0          0          0          0\n",
      "\n",
      "1 epochs completed in 0.010 hours.\n",
      "Optimizer stripped from runs/detect/train3/weights/last.pt, 5.5MB\n",
      "Optimizer stripped from runs/detect/train3/weights/best.pt, 5.5MB\n",
      "\n",
      "Validating runs/detect/train3/weights/best.pt...\n",
      "Ultralytics 8.3.79 🚀 Python-3.12.2 torch-2.6.0+cu124 CUDA:0 (NVIDIA GeForce RTX 4070 Laptop GPU, 8188MiB)\n",
      "YOLO11n summary (fused): 100 layers, 2,582,347 parameters, 0 gradients, 6.3 GFLOPs\n"
     ]
    },
    {
     "name": "stderr",
     "output_type": "stream",
     "text": [
      "                 Class     Images  Instances      Box(P          R      mAP50  mAP50-95): 100%|██████████| 4/4 [00:01<00:00,  2.55it/s]\n"
     ]
    },
    {
     "name": "stdout",
     "output_type": "stream",
     "text": [
      "                   all        100        100          0          0          0          0\n",
      "Speed: 2.0ms preprocess, 6.6ms inference, 0.0ms loss, 5.9ms postprocess per image\n",
      "Results saved to \u001b[1mruns/detect/train3\u001b[0m\n"
     ]
    },
    {
     "data": {
      "text/html": [
       "<pre style=\"white-space:pre;overflow-x:auto;line-height:normal;font-family:Menlo,'DejaVu Sans Mono',consolas,'Courier New',monospace\"></pre>\n"
      ],
      "text/plain": []
     },
     "metadata": {},
     "output_type": "display_data"
    },
    {
     "data": {
      "text/html": [
       "<pre style=\"white-space:pre;overflow-x:auto;line-height:normal;font-family:Menlo,'DejaVu Sans Mono',consolas,'Courier New',monospace\"></pre>\n"
      ],
      "text/plain": []
     },
     "metadata": {},
     "output_type": "display_data"
    },
    {
     "name": "stderr",
     "output_type": "stream",
     "text": [
      "WARNING: The following untracked files were present in the workspace before saving but will not be included in the experiment commit:\n",
      "\t.dvc/.gitignore, YOLO_model/model.ipynb, YOLO_model/yolo11n.pt\n"
     ]
    },
    {
     "name": "stdout",
     "output_type": "stream",
     "text": [
      "\u001b[34m\u001b[1mMLflow: \u001b[0mresults logged to runs/mlflow\n",
      "\u001b[34m\u001b[1mMLflow: \u001b[0mdisable with 'yolo settings mlflow=False'\n"
     ]
    }
   ],
   "source": [
    "model.train(data=data_path+\"/data.yaml\", epochs=1,imgsz=1200,batch=0.7)\n",
    "model.save(model_path+\"/model.pt\")"
   ]
  },
  {
   "cell_type": "markdown",
   "metadata": {},
   "source": [
    "### Evaluation"
   ]
  },
  {
   "cell_type": "code",
   "execution_count": 10,
   "metadata": {},
   "outputs": [
    {
     "name": "stdout",
     "output_type": "stream",
     "text": [
      "\n",
      "image 1/100 /mnt/c/users/david.chaparro/Documents/data/fits_with_sp3_ra_dec_v3_COCO_dataset_mini/yolo_annotations/train/images/24876_be96bc2f-933d-4c45-ae60-9546625f5fa9_0.png: 448x640 (no detections), 760.0ms\n",
      "image 2/100 /mnt/c/users/david.chaparro/Documents/data/fits_with_sp3_ra_dec_v3_COCO_dataset_mini/yolo_annotations/train/images/24876_be96bc2f-933d-4c45-ae60-9546625f5fa9_1.png: 448x640 (no detections), 604.0ms\n",
      "image 3/100 /mnt/c/users/david.chaparro/Documents/data/fits_with_sp3_ra_dec_v3_COCO_dataset_mini/yolo_annotations/train/images/24876_be96bc2f-933d-4c45-ae60-9546625f5fa9_10.png: 448x640 (no detections), 717.1ms\n",
      "image 4/100 /mnt/c/users/david.chaparro/Documents/data/fits_with_sp3_ra_dec_v3_COCO_dataset_mini/yolo_annotations/train/images/24876_be96bc2f-933d-4c45-ae60-9546625f5fa9_2.png: 448x640 (no detections), 576.8ms\n",
      "image 5/100 /mnt/c/users/david.chaparro/Documents/data/fits_with_sp3_ra_dec_v3_COCO_dataset_mini/yolo_annotations/train/images/24876_be96bc2f-933d-4c45-ae60-9546625f5fa9_3.png: 448x640 (no detections), 695.0ms\n",
      "image 6/100 /mnt/c/users/david.chaparro/Documents/data/fits_with_sp3_ra_dec_v3_COCO_dataset_mini/yolo_annotations/train/images/24876_be96bc2f-933d-4c45-ae60-9546625f5fa9_4.png: 448x640 (no detections), 713.7ms\n",
      "image 7/100 /mnt/c/users/david.chaparro/Documents/data/fits_with_sp3_ra_dec_v3_COCO_dataset_mini/yolo_annotations/train/images/24876_be96bc2f-933d-4c45-ae60-9546625f5fa9_5.png: 448x640 (no detections), 875.7ms\n",
      "image 8/100 /mnt/c/users/david.chaparro/Documents/data/fits_with_sp3_ra_dec_v3_COCO_dataset_mini/yolo_annotations/train/images/24876_be96bc2f-933d-4c45-ae60-9546625f5fa9_6.png: 448x640 (no detections), 589.9ms\n",
      "image 9/100 /mnt/c/users/david.chaparro/Documents/data/fits_with_sp3_ra_dec_v3_COCO_dataset_mini/yolo_annotations/train/images/24876_be96bc2f-933d-4c45-ae60-9546625f5fa9_7.png: 448x640 (no detections), 844.4ms\n",
      "image 10/100 /mnt/c/users/david.chaparro/Documents/data/fits_with_sp3_ra_dec_v3_COCO_dataset_mini/yolo_annotations/train/images/24876_be96bc2f-933d-4c45-ae60-9546625f5fa9_8.png: 448x640 (no detections), 587.2ms\n",
      "image 11/100 /mnt/c/users/david.chaparro/Documents/data/fits_with_sp3_ra_dec_v3_COCO_dataset_mini/yolo_annotations/train/images/24876_be96bc2f-933d-4c45-ae60-9546625f5fa9_9.png: 448x640 (no detections), 140.5ms\n",
      "image 12/100 /mnt/c/users/david.chaparro/Documents/data/fits_with_sp3_ra_dec_v3_COCO_dataset_mini/yolo_annotations/train/images/24876_d4e1d5a0-4e2b-4444-ab4d-12e82a684900_0.png: 448x640 (no detections), 612.0ms\n",
      "image 13/100 /mnt/c/users/david.chaparro/Documents/data/fits_with_sp3_ra_dec_v3_COCO_dataset_mini/yolo_annotations/train/images/24876_d4e1d5a0-4e2b-4444-ab4d-12e82a684900_1.png: 448x640 (no detections), 122.2ms\n",
      "image 14/100 /mnt/c/users/david.chaparro/Documents/data/fits_with_sp3_ra_dec_v3_COCO_dataset_mini/yolo_annotations/train/images/24876_d4e1d5a0-4e2b-4444-ab4d-12e82a684900_10.png: 448x640 (no detections), 406.0ms\n",
      "image 15/100 /mnt/c/users/david.chaparro/Documents/data/fits_with_sp3_ra_dec_v3_COCO_dataset_mini/yolo_annotations/train/images/24876_d4e1d5a0-4e2b-4444-ab4d-12e82a684900_2.png: 448x640 (no detections), 8.0ms\n",
      "image 16/100 /mnt/c/users/david.chaparro/Documents/data/fits_with_sp3_ra_dec_v3_COCO_dataset_mini/yolo_annotations/train/images/24876_d4e1d5a0-4e2b-4444-ab4d-12e82a684900_3.png: 448x640 (no detections), 10.3ms\n",
      "image 17/100 /mnt/c/users/david.chaparro/Documents/data/fits_with_sp3_ra_dec_v3_COCO_dataset_mini/yolo_annotations/train/images/24876_d4e1d5a0-4e2b-4444-ab4d-12e82a684900_4.png: 448x640 (no detections), 7.8ms\n",
      "image 18/100 /mnt/c/users/david.chaparro/Documents/data/fits_with_sp3_ra_dec_v3_COCO_dataset_mini/yolo_annotations/train/images/24876_d4e1d5a0-4e2b-4444-ab4d-12e82a684900_5.png: 448x640 (no detections), 8.6ms\n",
      "image 19/100 /mnt/c/users/david.chaparro/Documents/data/fits_with_sp3_ra_dec_v3_COCO_dataset_mini/yolo_annotations/train/images/24876_d4e1d5a0-4e2b-4444-ab4d-12e82a684900_6.png: 448x640 (no detections), 8.0ms\n",
      "image 20/100 /mnt/c/users/david.chaparro/Documents/data/fits_with_sp3_ra_dec_v3_COCO_dataset_mini/yolo_annotations/train/images/24876_d4e1d5a0-4e2b-4444-ab4d-12e82a684900_7.png: 448x640 (no detections), 9.2ms\n",
      "image 21/100 /mnt/c/users/david.chaparro/Documents/data/fits_with_sp3_ra_dec_v3_COCO_dataset_mini/yolo_annotations/train/images/24876_d4e1d5a0-4e2b-4444-ab4d-12e82a684900_8.png: 448x640 (no detections), 8.9ms\n",
      "image 22/100 /mnt/c/users/david.chaparro/Documents/data/fits_with_sp3_ra_dec_v3_COCO_dataset_mini/yolo_annotations/train/images/24876_d4e1d5a0-4e2b-4444-ab4d-12e82a684900_9.png: 448x640 (no detections), 10.2ms\n",
      "image 23/100 /mnt/c/users/david.chaparro/Documents/data/fits_with_sp3_ra_dec_v3_COCO_dataset_mini/yolo_annotations/train/images/26360_4f6cc322-68d7-4b13-9b6e-ae7d110ec84c_0.png: 448x640 (no detections), 8.3ms\n",
      "image 24/100 /mnt/c/users/david.chaparro/Documents/data/fits_with_sp3_ra_dec_v3_COCO_dataset_mini/yolo_annotations/train/images/26360_4f6cc322-68d7-4b13-9b6e-ae7d110ec84c_1.png: 448x640 (no detections), 7.9ms\n",
      "image 25/100 /mnt/c/users/david.chaparro/Documents/data/fits_with_sp3_ra_dec_v3_COCO_dataset_mini/yolo_annotations/train/images/26360_4f6cc322-68d7-4b13-9b6e-ae7d110ec84c_10.png: 448x640 (no detections), 9.2ms\n",
      "image 26/100 /mnt/c/users/david.chaparro/Documents/data/fits_with_sp3_ra_dec_v3_COCO_dataset_mini/yolo_annotations/train/images/26360_4f6cc322-68d7-4b13-9b6e-ae7d110ec84c_2.png: 448x640 (no detections), 11.6ms\n",
      "image 27/100 /mnt/c/users/david.chaparro/Documents/data/fits_with_sp3_ra_dec_v3_COCO_dataset_mini/yolo_annotations/train/images/26360_4f6cc322-68d7-4b13-9b6e-ae7d110ec84c_3.png: 448x640 (no detections), 8.5ms\n",
      "image 28/100 /mnt/c/users/david.chaparro/Documents/data/fits_with_sp3_ra_dec_v3_COCO_dataset_mini/yolo_annotations/train/images/26360_4f6cc322-68d7-4b13-9b6e-ae7d110ec84c_4.png: 448x640 (no detections), 9.3ms\n",
      "image 29/100 /mnt/c/users/david.chaparro/Documents/data/fits_with_sp3_ra_dec_v3_COCO_dataset_mini/yolo_annotations/train/images/26360_4f6cc322-68d7-4b13-9b6e-ae7d110ec84c_5.png: 448x640 (no detections), 9.4ms\n",
      "image 30/100 /mnt/c/users/david.chaparro/Documents/data/fits_with_sp3_ra_dec_v3_COCO_dataset_mini/yolo_annotations/train/images/26360_4f6cc322-68d7-4b13-9b6e-ae7d110ec84c_6.png: 448x640 (no detections), 8.3ms\n",
      "image 31/100 /mnt/c/users/david.chaparro/Documents/data/fits_with_sp3_ra_dec_v3_COCO_dataset_mini/yolo_annotations/train/images/26360_4f6cc322-68d7-4b13-9b6e-ae7d110ec84c_7.png: 448x640 (no detections), 8.3ms\n",
      "image 32/100 /mnt/c/users/david.chaparro/Documents/data/fits_with_sp3_ra_dec_v3_COCO_dataset_mini/yolo_annotations/train/images/26360_4f6cc322-68d7-4b13-9b6e-ae7d110ec84c_8.png: 448x640 (no detections), 8.7ms\n",
      "image 33/100 /mnt/c/users/david.chaparro/Documents/data/fits_with_sp3_ra_dec_v3_COCO_dataset_mini/yolo_annotations/train/images/26360_4f6cc322-68d7-4b13-9b6e-ae7d110ec84c_9.png: 448x640 (no detections), 8.9ms\n",
      "image 34/100 /mnt/c/users/david.chaparro/Documents/data/fits_with_sp3_ra_dec_v3_COCO_dataset_mini/yolo_annotations/train/images/26360_a05822a5-60f3-43b6-8258-170e1cccfe1d_0.png: 448x640 (no detections), 7.5ms\n",
      "image 35/100 /mnt/c/users/david.chaparro/Documents/data/fits_with_sp3_ra_dec_v3_COCO_dataset_mini/yolo_annotations/train/images/26360_a05822a5-60f3-43b6-8258-170e1cccfe1d_1.png: 448x640 (no detections), 10.0ms\n",
      "image 36/100 /mnt/c/users/david.chaparro/Documents/data/fits_with_sp3_ra_dec_v3_COCO_dataset_mini/yolo_annotations/train/images/26360_a05822a5-60f3-43b6-8258-170e1cccfe1d_10.png: 448x640 (no detections), 8.8ms\n",
      "image 37/100 /mnt/c/users/david.chaparro/Documents/data/fits_with_sp3_ra_dec_v3_COCO_dataset_mini/yolo_annotations/train/images/26360_a05822a5-60f3-43b6-8258-170e1cccfe1d_2.png: 448x640 (no detections), 9.5ms\n",
      "image 38/100 /mnt/c/users/david.chaparro/Documents/data/fits_with_sp3_ra_dec_v3_COCO_dataset_mini/yolo_annotations/train/images/26360_a05822a5-60f3-43b6-8258-170e1cccfe1d_3.png: 448x640 (no detections), 10.8ms\n",
      "image 39/100 /mnt/c/users/david.chaparro/Documents/data/fits_with_sp3_ra_dec_v3_COCO_dataset_mini/yolo_annotations/train/images/26360_a05822a5-60f3-43b6-8258-170e1cccfe1d_4.png: 448x640 (no detections), 8.7ms\n",
      "image 40/100 /mnt/c/users/david.chaparro/Documents/data/fits_with_sp3_ra_dec_v3_COCO_dataset_mini/yolo_annotations/train/images/26360_a05822a5-60f3-43b6-8258-170e1cccfe1d_5.png: 448x640 (no detections), 7.9ms\n",
      "image 41/100 /mnt/c/users/david.chaparro/Documents/data/fits_with_sp3_ra_dec_v3_COCO_dataset_mini/yolo_annotations/train/images/26360_a05822a5-60f3-43b6-8258-170e1cccfe1d_6.png: 448x640 (no detections), 7.9ms\n",
      "image 42/100 /mnt/c/users/david.chaparro/Documents/data/fits_with_sp3_ra_dec_v3_COCO_dataset_mini/yolo_annotations/train/images/26360_a05822a5-60f3-43b6-8258-170e1cccfe1d_7.png: 448x640 (no detections), 9.7ms\n",
      "image 43/100 /mnt/c/users/david.chaparro/Documents/data/fits_with_sp3_ra_dec_v3_COCO_dataset_mini/yolo_annotations/train/images/26360_a05822a5-60f3-43b6-8258-170e1cccfe1d_8.png: 448x640 (no detections), 10.0ms\n",
      "image 44/100 /mnt/c/users/david.chaparro/Documents/data/fits_with_sp3_ra_dec_v3_COCO_dataset_mini/yolo_annotations/train/images/26360_a05822a5-60f3-43b6-8258-170e1cccfe1d_9.png: 448x640 (no detections), 9.1ms\n",
      "image 45/100 /mnt/c/users/david.chaparro/Documents/data/fits_with_sp3_ra_dec_v3_COCO_dataset_mini/yolo_annotations/train/images/26360_dab704bb-8438-40ed-9766-9143d8fb6ef0_10.png: 448x640 (no detections), 7.5ms\n",
      "image 46/100 /mnt/c/users/david.chaparro/Documents/data/fits_with_sp3_ra_dec_v3_COCO_dataset_mini/yolo_annotations/train/images/26360_dab704bb-8438-40ed-9766-9143d8fb6ef0_9.png: 448x640 (no detections), 8.4ms\n",
      "image 47/100 /mnt/c/users/david.chaparro/Documents/data/fits_with_sp3_ra_dec_v3_COCO_dataset_mini/yolo_annotations/train/images/26360_effbbf85-ff52-42c6-83ed-b4808cbf8724_10.png: 448x640 (no detections), 9.0ms\n",
      "image 48/100 /mnt/c/users/david.chaparro/Documents/data/fits_with_sp3_ra_dec_v3_COCO_dataset_mini/yolo_annotations/train/images/26360_effbbf85-ff52-42c6-83ed-b4808cbf8724_6.png: 448x640 (no detections), 9.2ms\n",
      "image 49/100 /mnt/c/users/david.chaparro/Documents/data/fits_with_sp3_ra_dec_v3_COCO_dataset_mini/yolo_annotations/train/images/26360_effbbf85-ff52-42c6-83ed-b4808cbf8724_7.png: 448x640 (no detections), 8.0ms\n",
      "image 50/100 /mnt/c/users/david.chaparro/Documents/data/fits_with_sp3_ra_dec_v3_COCO_dataset_mini/yolo_annotations/train/images/26360_effbbf85-ff52-42c6-83ed-b4808cbf8724_8.png: 448x640 (no detections), 9.8ms\n",
      "image 51/100 /mnt/c/users/david.chaparro/Documents/data/fits_with_sp3_ra_dec_v3_COCO_dataset_mini/yolo_annotations/train/images/26360_effbbf85-ff52-42c6-83ed-b4808cbf8724_9.png: 448x640 (no detections), 7.9ms\n",
      "image 52/100 /mnt/c/users/david.chaparro/Documents/data/fits_with_sp3_ra_dec_v3_COCO_dataset_mini/yolo_annotations/train/images/26360_f1603c28-8d66-451e-9bbf-325ad48e667d_0.png: 448x640 (no detections), 9.2ms\n",
      "image 53/100 /mnt/c/users/david.chaparro/Documents/data/fits_with_sp3_ra_dec_v3_COCO_dataset_mini/yolo_annotations/train/images/26360_f1603c28-8d66-451e-9bbf-325ad48e667d_1.png: 448x640 (no detections), 8.5ms\n",
      "image 54/100 /mnt/c/users/david.chaparro/Documents/data/fits_with_sp3_ra_dec_v3_COCO_dataset_mini/yolo_annotations/train/images/26360_f1603c28-8d66-451e-9bbf-325ad48e667d_10.png: 448x640 (no detections), 8.3ms\n",
      "image 55/100 /mnt/c/users/david.chaparro/Documents/data/fits_with_sp3_ra_dec_v3_COCO_dataset_mini/yolo_annotations/train/images/26360_f1603c28-8d66-451e-9bbf-325ad48e667d_2.png: 448x640 (no detections), 11.4ms\n",
      "image 56/100 /mnt/c/users/david.chaparro/Documents/data/fits_with_sp3_ra_dec_v3_COCO_dataset_mini/yolo_annotations/train/images/26360_f1603c28-8d66-451e-9bbf-325ad48e667d_3.png: 448x640 (no detections), 9.4ms\n",
      "image 57/100 /mnt/c/users/david.chaparro/Documents/data/fits_with_sp3_ra_dec_v3_COCO_dataset_mini/yolo_annotations/train/images/26360_f1603c28-8d66-451e-9bbf-325ad48e667d_4.png: 448x640 (no detections), 9.1ms\n",
      "image 58/100 /mnt/c/users/david.chaparro/Documents/data/fits_with_sp3_ra_dec_v3_COCO_dataset_mini/yolo_annotations/train/images/26360_f1603c28-8d66-451e-9bbf-325ad48e667d_5.png: 448x640 (no detections), 9.1ms\n",
      "image 59/100 /mnt/c/users/david.chaparro/Documents/data/fits_with_sp3_ra_dec_v3_COCO_dataset_mini/yolo_annotations/train/images/26360_f1603c28-8d66-451e-9bbf-325ad48e667d_6.png: 448x640 (no detections), 9.6ms\n",
      "image 60/100 /mnt/c/users/david.chaparro/Documents/data/fits_with_sp3_ra_dec_v3_COCO_dataset_mini/yolo_annotations/train/images/26360_f1603c28-8d66-451e-9bbf-325ad48e667d_7.png: 448x640 (no detections), 11.3ms\n",
      "image 61/100 /mnt/c/users/david.chaparro/Documents/data/fits_with_sp3_ra_dec_v3_COCO_dataset_mini/yolo_annotations/train/images/26360_f1603c28-8d66-451e-9bbf-325ad48e667d_8.png: 448x640 (no detections), 10.0ms\n",
      "image 62/100 /mnt/c/users/david.chaparro/Documents/data/fits_with_sp3_ra_dec_v3_COCO_dataset_mini/yolo_annotations/train/images/26360_f1603c28-8d66-451e-9bbf-325ad48e667d_9.png: 448x640 (no detections), 9.0ms\n",
      "image 63/100 /mnt/c/users/david.chaparro/Documents/data/fits_with_sp3_ra_dec_v3_COCO_dataset_mini/yolo_annotations/train/images/28190_30f7a482-7afe-45ea-b724-de7f5ab5a066_10.png: 448x640 (no detections), 17.9ms\n",
      "image 64/100 /mnt/c/users/david.chaparro/Documents/data/fits_with_sp3_ra_dec_v3_COCO_dataset_mini/yolo_annotations/train/images/28190_30f7a482-7afe-45ea-b724-de7f5ab5a066_9.png: 448x640 (no detections), 10.3ms\n",
      "image 65/100 /mnt/c/users/david.chaparro/Documents/data/fits_with_sp3_ra_dec_v3_COCO_dataset_mini/yolo_annotations/train/images/28190_5ddb7360-7367-4060-8567-936d5e858fd3_0.png: 448x640 (no detections), 12.9ms\n",
      "image 66/100 /mnt/c/users/david.chaparro/Documents/data/fits_with_sp3_ra_dec_v3_COCO_dataset_mini/yolo_annotations/train/images/28190_5ddb7360-7367-4060-8567-936d5e858fd3_1.png: 448x640 (no detections), 15.2ms\n",
      "image 67/100 /mnt/c/users/david.chaparro/Documents/data/fits_with_sp3_ra_dec_v3_COCO_dataset_mini/yolo_annotations/train/images/28190_5ddb7360-7367-4060-8567-936d5e858fd3_10.png: 448x640 (no detections), 9.2ms\n",
      "image 68/100 /mnt/c/users/david.chaparro/Documents/data/fits_with_sp3_ra_dec_v3_COCO_dataset_mini/yolo_annotations/train/images/28190_5ddb7360-7367-4060-8567-936d5e858fd3_2.png: 448x640 (no detections), 17.6ms\n",
      "image 69/100 /mnt/c/users/david.chaparro/Documents/data/fits_with_sp3_ra_dec_v3_COCO_dataset_mini/yolo_annotations/train/images/28190_5ddb7360-7367-4060-8567-936d5e858fd3_3.png: 448x640 (no detections), 11.7ms\n",
      "image 70/100 /mnt/c/users/david.chaparro/Documents/data/fits_with_sp3_ra_dec_v3_COCO_dataset_mini/yolo_annotations/train/images/28190_5ddb7360-7367-4060-8567-936d5e858fd3_4.png: 448x640 (no detections), 16.3ms\n",
      "image 71/100 /mnt/c/users/david.chaparro/Documents/data/fits_with_sp3_ra_dec_v3_COCO_dataset_mini/yolo_annotations/train/images/28190_5ddb7360-7367-4060-8567-936d5e858fd3_5.png: 448x640 (no detections), 9.1ms\n",
      "image 72/100 /mnt/c/users/david.chaparro/Documents/data/fits_with_sp3_ra_dec_v3_COCO_dataset_mini/yolo_annotations/train/images/28190_5ddb7360-7367-4060-8567-936d5e858fd3_6.png: 448x640 (no detections), 18.0ms\n",
      "image 73/100 /mnt/c/users/david.chaparro/Documents/data/fits_with_sp3_ra_dec_v3_COCO_dataset_mini/yolo_annotations/train/images/28190_5ddb7360-7367-4060-8567-936d5e858fd3_7.png: 448x640 (no detections), 16.5ms\n",
      "image 74/100 /mnt/c/users/david.chaparro/Documents/data/fits_with_sp3_ra_dec_v3_COCO_dataset_mini/yolo_annotations/train/images/28190_5ddb7360-7367-4060-8567-936d5e858fd3_8.png: 448x640 (no detections), 17.1ms\n",
      "image 75/100 /mnt/c/users/david.chaparro/Documents/data/fits_with_sp3_ra_dec_v3_COCO_dataset_mini/yolo_annotations/train/images/28190_5ddb7360-7367-4060-8567-936d5e858fd3_9.png: 448x640 (no detections), 13.1ms\n",
      "image 76/100 /mnt/c/users/david.chaparro/Documents/data/fits_with_sp3_ra_dec_v3_COCO_dataset_mini/yolo_annotations/train/images/48859_0bdc25cc-c33a-4b2c-a97d-90cf77b2487e_10.png: 448x640 (no detections), 13.9ms\n",
      "image 77/100 /mnt/c/users/david.chaparro/Documents/data/fits_with_sp3_ra_dec_v3_COCO_dataset_mini/yolo_annotations/train/images/48859_0bdc25cc-c33a-4b2c-a97d-90cf77b2487e_5.png: 448x640 (no detections), 11.0ms\n",
      "image 78/100 /mnt/c/users/david.chaparro/Documents/data/fits_with_sp3_ra_dec_v3_COCO_dataset_mini/yolo_annotations/train/images/48859_0bdc25cc-c33a-4b2c-a97d-90cf77b2487e_6.png: 448x640 (no detections), 9.6ms\n",
      "image 79/100 /mnt/c/users/david.chaparro/Documents/data/fits_with_sp3_ra_dec_v3_COCO_dataset_mini/yolo_annotations/train/images/48859_0bdc25cc-c33a-4b2c-a97d-90cf77b2487e_7.png: 448x640 (no detections), 10.7ms\n",
      "image 80/100 /mnt/c/users/david.chaparro/Documents/data/fits_with_sp3_ra_dec_v3_COCO_dataset_mini/yolo_annotations/train/images/48859_0bdc25cc-c33a-4b2c-a97d-90cf77b2487e_8.png: 448x640 (no detections), 12.6ms\n",
      "image 81/100 /mnt/c/users/david.chaparro/Documents/data/fits_with_sp3_ra_dec_v3_COCO_dataset_mini/yolo_annotations/train/images/48859_0bdc25cc-c33a-4b2c-a97d-90cf77b2487e_9.png: 448x640 (no detections), 8.8ms\n",
      "image 82/100 /mnt/c/users/david.chaparro/Documents/data/fits_with_sp3_ra_dec_v3_COCO_dataset_mini/yolo_annotations/train/images/48859_423bad71-578b-4e91-9130-7bf8691a2a56_10.png: 448x640 (no detections), 10.3ms\n",
      "image 83/100 /mnt/c/users/david.chaparro/Documents/data/fits_with_sp3_ra_dec_v3_COCO_dataset_mini/yolo_annotations/train/images/48859_423bad71-578b-4e91-9130-7bf8691a2a56_3.png: 448x640 (no detections), 8.5ms\n",
      "image 84/100 /mnt/c/users/david.chaparro/Documents/data/fits_with_sp3_ra_dec_v3_COCO_dataset_mini/yolo_annotations/train/images/48859_423bad71-578b-4e91-9130-7bf8691a2a56_4.png: 448x640 (no detections), 11.1ms\n",
      "image 85/100 /mnt/c/users/david.chaparro/Documents/data/fits_with_sp3_ra_dec_v3_COCO_dataset_mini/yolo_annotations/train/images/48859_423bad71-578b-4e91-9130-7bf8691a2a56_5.png: 448x640 (no detections), 14.5ms\n",
      "image 86/100 /mnt/c/users/david.chaparro/Documents/data/fits_with_sp3_ra_dec_v3_COCO_dataset_mini/yolo_annotations/train/images/48859_423bad71-578b-4e91-9130-7bf8691a2a56_6.png: 448x640 (no detections), 8.3ms\n",
      "image 87/100 /mnt/c/users/david.chaparro/Documents/data/fits_with_sp3_ra_dec_v3_COCO_dataset_mini/yolo_annotations/train/images/48859_423bad71-578b-4e91-9130-7bf8691a2a56_7.png: 448x640 (no detections), 9.6ms\n",
      "image 88/100 /mnt/c/users/david.chaparro/Documents/data/fits_with_sp3_ra_dec_v3_COCO_dataset_mini/yolo_annotations/train/images/48859_423bad71-578b-4e91-9130-7bf8691a2a56_8.png: 448x640 (no detections), 10.6ms\n",
      "image 89/100 /mnt/c/users/david.chaparro/Documents/data/fits_with_sp3_ra_dec_v3_COCO_dataset_mini/yolo_annotations/train/images/48859_423bad71-578b-4e91-9130-7bf8691a2a56_9.png: 448x640 (no detections), 15.6ms\n",
      "image 90/100 /mnt/c/users/david.chaparro/Documents/data/fits_with_sp3_ra_dec_v3_COCO_dataset_mini/yolo_annotations/train/images/48859_4a79b300-fca4-4596-8c02-7951a9e8b7d5_10.png: 448x640 (no detections), 16.3ms\n",
      "image 91/100 /mnt/c/users/david.chaparro/Documents/data/fits_with_sp3_ra_dec_v3_COCO_dataset_mini/yolo_annotations/train/images/48859_4a79b300-fca4-4596-8c02-7951a9e8b7d5_3.png: 448x640 (no detections), 12.7ms\n",
      "image 92/100 /mnt/c/users/david.chaparro/Documents/data/fits_with_sp3_ra_dec_v3_COCO_dataset_mini/yolo_annotations/train/images/48859_4a79b300-fca4-4596-8c02-7951a9e8b7d5_4.png: 448x640 (no detections), 9.0ms\n",
      "image 93/100 /mnt/c/users/david.chaparro/Documents/data/fits_with_sp3_ra_dec_v3_COCO_dataset_mini/yolo_annotations/train/images/48859_4a79b300-fca4-4596-8c02-7951a9e8b7d5_5.png: 448x640 (no detections), 10.9ms\n",
      "image 94/100 /mnt/c/users/david.chaparro/Documents/data/fits_with_sp3_ra_dec_v3_COCO_dataset_mini/yolo_annotations/train/images/48859_4a79b300-fca4-4596-8c02-7951a9e8b7d5_6.png: 448x640 (no detections), 18.2ms\n",
      "image 95/100 /mnt/c/users/david.chaparro/Documents/data/fits_with_sp3_ra_dec_v3_COCO_dataset_mini/yolo_annotations/train/images/48859_4a79b300-fca4-4596-8c02-7951a9e8b7d5_7.png: 448x640 (no detections), 8.8ms\n",
      "image 96/100 /mnt/c/users/david.chaparro/Documents/data/fits_with_sp3_ra_dec_v3_COCO_dataset_mini/yolo_annotations/train/images/48859_4a79b300-fca4-4596-8c02-7951a9e8b7d5_8.png: 448x640 (no detections), 9.0ms\n",
      "image 97/100 /mnt/c/users/david.chaparro/Documents/data/fits_with_sp3_ra_dec_v3_COCO_dataset_mini/yolo_annotations/train/images/48859_4a79b300-fca4-4596-8c02-7951a9e8b7d5_9.png: 448x640 (no detections), 9.6ms\n",
      "image 98/100 /mnt/c/users/david.chaparro/Documents/data/fits_with_sp3_ra_dec_v3_COCO_dataset_mini/yolo_annotations/train/images/48859_90c1e611-3a93-4e2f-a388-e8aa0d3907e6_10.png: 448x640 (no detections), 8.4ms\n",
      "image 99/100 /mnt/c/users/david.chaparro/Documents/data/fits_with_sp3_ra_dec_v3_COCO_dataset_mini/yolo_annotations/train/images/48859_90c1e611-3a93-4e2f-a388-e8aa0d3907e6_8.png: 448x640 (no detections), 9.2ms\n",
      "image 100/100 /mnt/c/users/david.chaparro/Documents/data/fits_with_sp3_ra_dec_v3_COCO_dataset_mini/yolo_annotations/train/images/48859_90c1e611-3a93-4e2f-a388-e8aa0d3907e6_9.png: 448x640 (no detections), 9.1ms\n",
      "Speed: 2.5ms preprocess, 91.4ms inference, 0.9ms postprocess per image at shape (1, 3, 448, 640)\n"
     ]
    }
   ],
   "source": [
    "# path = eval_path+\"/images\"\n",
    "path = train_path+\"/images\"\n",
    "model= model.eval()\n",
    "temp_results = model.predict(path)\n",
    "results = {}\n",
    "for item in temp_results:\n",
    "    filename = item.path.split(\"/\")[-1]\n",
    "    results[filename] = item.to_df().to_dict(\"list\")\n",
    "with open(model_path+\"/outputs.json\", \"w\") as f:\n",
    "    json.dump(results, f)"
   ]
  }
 ],
 "metadata": {
  "kernelspec": {
   "display_name": "MLTorch",
   "language": "python",
   "name": "python3"
  },
  "language_info": {
   "codemirror_mode": {
    "name": "ipython",
    "version": 3
   },
   "file_extension": ".py",
   "mimetype": "text/x-python",
   "name": "python",
   "nbconvert_exporter": "python",
   "pygments_lexer": "ipython3",
   "version": "3.12.2"
  }
 },
 "nbformat": 4,
 "nbformat_minor": 2
}
